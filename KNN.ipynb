{
 "cells": [
  {
   "cell_type": "code",
   "execution_count": 1,
   "id": "5cb4167e",
   "metadata": {},
   "outputs": [],
   "source": [
    "#import requierd packages\n",
    "from sklearn.model_selection import train_test_split\n",
    "from sklearn.neighbors import KNeighborsClassifier\n",
    "from sklearn import datasets\n",
    "#load datasets\n",
    "iris=datasets.load_iris()"
   ]
  },
  {
   "cell_type": "code",
   "execution_count": 2,
   "id": "fe0643ee",
   "metadata": {},
   "outputs": [
    {
     "name": "stdout",
     "output_type": "stream",
     "text": [
      "Dataset splited into training and testing data\n",
      "size of training data and its label (135, 4) (135,)\n",
      "Size of training data and its label (15, 4) (15,)\n"
     ]
    }
   ],
   "source": [
    "#split the data into train and test samples\n",
    "x_train,x_test,y_train,y_test=train_test_split(iris.data,iris.target,test_size=.1)\n",
    "print(\"Dataset splited into training and testing data\")\n",
    "print(\"size of training data and its label\",x_train.shape,y_train.shape)\n",
    "print(\"Size of training data and its label\",x_test.shape,y_test.shape)"
   ]
  },
  {
   "cell_type": "code",
   "execution_count": 3,
   "id": "cf5d3da5",
   "metadata": {},
   "outputs": [
    {
     "name": "stdout",
     "output_type": "stream",
     "text": [
      "Label 0 - setosa\n",
      "Label 1 - versicolor\n",
      "Label 2 - virginica\n"
     ]
    }
   ],
   "source": [
    "#prints label number and their names\n",
    "for i in range(len(iris.target_names)):\n",
    "    print(\"Label\",i,\"-\",str(iris.target_names[i]))"
   ]
  },
  {
   "cell_type": "code",
   "execution_count": 4,
   "id": "afaf0a38",
   "metadata": {},
   "outputs": [],
   "source": [
    "#create object of KNN classifier\n",
    "classifier=KNeighborsClassifier(n_neighbors=1)\n",
    "classifier.fit(x_train,y_train)\n",
    "y_pred=classifier.predict(x_test)"
   ]
  },
  {
   "cell_type": "code",
   "execution_count": 5,
   "id": "11949cde",
   "metadata": {},
   "outputs": [
    {
     "name": "stdout",
     "output_type": "stream",
     "text": [
      " Results of using Knn with k=1\n",
      "sample: [6.6 3.  4.4 1.4] Actual-label: 1 predicted-label: 1\n",
      "classification Accuracy: 0.9333333333333333\n",
      "sample: [6.  2.2 5.  1.5] Actual-label: 2 predicted-label: 1\n",
      "classification Accuracy: 0.9333333333333333\n",
      "sample: [6.4 3.2 4.5 1.5] Actual-label: 1 predicted-label: 1\n",
      "classification Accuracy: 0.9333333333333333\n",
      "sample: [5.1 3.5 1.4 0.3] Actual-label: 0 predicted-label: 0\n",
      "classification Accuracy: 0.9333333333333333\n",
      "sample: [7.6 3.  6.6 2.1] Actual-label: 2 predicted-label: 2\n",
      "classification Accuracy: 0.9333333333333333\n",
      "sample: [6.1 2.8 4.7 1.2] Actual-label: 1 predicted-label: 1\n",
      "classification Accuracy: 0.9333333333333333\n",
      "sample: [5.1 3.8 1.5 0.3] Actual-label: 0 predicted-label: 0\n",
      "classification Accuracy: 0.9333333333333333\n",
      "sample: [5.  3.2 1.2 0.2] Actual-label: 0 predicted-label: 0\n",
      "classification Accuracy: 0.9333333333333333\n",
      "sample: [5.  3.4 1.5 0.2] Actual-label: 0 predicted-label: 0\n",
      "classification Accuracy: 0.9333333333333333\n",
      "sample: [5.1 3.5 1.4 0.2] Actual-label: 0 predicted-label: 0\n",
      "classification Accuracy: 0.9333333333333333\n",
      "sample: [5.2 3.4 1.4 0.2] Actual-label: 0 predicted-label: 0\n",
      "classification Accuracy: 0.9333333333333333\n",
      "sample: [6.3 3.3 4.7 1.6] Actual-label: 1 predicted-label: 1\n",
      "classification Accuracy: 0.9333333333333333\n",
      "sample: [6.8 3.2 5.9 2.3] Actual-label: 2 predicted-label: 2\n",
      "classification Accuracy: 0.9333333333333333\n",
      "sample: [6.9 3.1 5.4 2.1] Actual-label: 2 predicted-label: 2\n",
      "classification Accuracy: 0.9333333333333333\n",
      "sample: [6.4 2.7 5.3 1.9] Actual-label: 2 predicted-label: 2\n",
      "classification Accuracy: 0.9333333333333333\n"
     ]
    }
   ],
   "source": [
    "#Display the result\n",
    "print(\" Results of using Knn with k=1\")\n",
    "for r in range(0,len(x_test)):\n",
    "    print(\"sample:\",str(x_test[r]),\"Actual-label:\",str(y_test[r]),\"predicted-label:\",str(y_pred[r]))\n",
    "    print(\"classification Accuracy:\",classifier.score(x_test,y_test))\n",
    "    \n"
   ]
  },
  {
   "cell_type": "code",
   "execution_count": null,
   "id": "f2890363",
   "metadata": {},
   "outputs": [],
   "source": []
  }
 ],
 "metadata": {
  "kernelspec": {
   "display_name": "Python 3 (ipykernel)",
   "language": "python",
   "name": "python3"
  },
  "language_info": {
   "codemirror_mode": {
    "name": "ipython",
    "version": 3
   },
   "file_extension": ".py",
   "mimetype": "text/x-python",
   "name": "python",
   "nbconvert_exporter": "python",
   "pygments_lexer": "ipython3",
   "version": "3.9.7"
  }
 },
 "nbformat": 4,
 "nbformat_minor": 5
}
