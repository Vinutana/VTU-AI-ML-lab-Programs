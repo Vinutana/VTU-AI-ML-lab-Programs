{
 "cells": [
  {
   "cell_type": "code",
   "execution_count": 1,
   "id": "3a1651f6",
   "metadata": {},
   "outputs": [],
   "source": [
    "tree={'S':[['A',1],['B',2]],'A':[['E',13]],'B':[['E',5]]}#dictionary\n",
    "heuristic={'S':5,'A':4,'B':5,'E':0}#dictionary\n",
    "cost={'S':0}"
   ]
  },
  {
   "cell_type": "code",
   "execution_count": 2,
   "id": "b4a31eb6",
   "metadata": {},
   "outputs": [
    {
     "name": "stdout",
     "output_type": "stream",
     "text": [
      "[0]\n",
      "[5, 7]\n",
      "[7, 14]\n",
      "[14, 7]\n",
      "visited nodes:[['S', 0], ['A', 5], ['B', 7], ['E', 7]]\n",
      "optimal nodes sequence:['S', 'B', 'E']\n"
     ]
    }
   ],
   "source": [
    "def AStarSearch():#function definition\n",
    "    global tree,heuristic # Variables declared outside the function\n",
    "    closed=[]# closed_list is a list of nodes which have been visited\n",
    "            # and who's neighbors have been inspected\n",
    "    opened=[['S',0]]# open_list is a list of nodes which have been visited, but who's neighbors\n",
    "                    # haven't all been inspected, starts off with the start node\n",
    "    #find the visited nodes\n",
    "    while True:#run forever until bre ak statement executed\n",
    "        fn=[i[1] for i in opened]\n",
    "        print(fn)\n",
    "        chosen_index=fn.index(min(fn))\n",
    "        node=opened[chosen_index][0]\n",
    "        closed.append(opened[chosen_index])\n",
    "        del opened[chosen_index]\n",
    "        if closed[-1][0]=='E':#check for condition\n",
    "            break # to break while loop\n",
    "        for item in tree[node]:\n",
    "            if item[0] in [closed_item[0] for closed_item in closed]:\n",
    "                continue\n",
    "            cost.update({item[0]:cost[node]+item[1]})\n",
    "            fn_node=cost[node]+heuristic[item[0]]+item[1]\n",
    "            temp=[item[0],fn_node]\n",
    "            opened.append(temp)\n",
    "    #find optimal sequence\n",
    "    trace_node='E'\n",
    "    optimal_sequence=['E']\n",
    "    for i in range(len(closed)-2,-1,-1):\n",
    "        check_node=closed[i][0]\n",
    "        if trace_node in [children[0] for children in tree[check_node]]:\n",
    "            children_costs=[temp[1] for temp in tree[check_node]]\n",
    "            children_nodes=[temp[0] for temp in tree[check_node]]\n",
    "            if cost[check_node]+children_costs[children_nodes.index(trace_node)]==cost[trace_node]:\n",
    "                optimal_sequence.append(check_node)\n",
    "                trace_node=check_node\n",
    "    optimal_sequence.reverse()\n",
    "    return closed,optimal_sequence\n",
    "if __name__ == \"__main__\":\n",
    "    visited_nodes,optimal_nodes=AStarSearch()\n",
    "    print('visited nodes:' +str(visited_nodes))\n",
    "    print('optimal nodes sequence:' +str(optimal_nodes))"
   ]
  }
 ],
 "metadata": {
  "kernelspec": {
   "display_name": "Python 3 (ipykernel)",
   "language": "python",
   "name": "python3"
  },
  "language_info": {
   "codemirror_mode": {
    "name": "ipython",
    "version": 3
   },
   "file_extension": ".py",
   "mimetype": "text/x-python",
   "name": "python",
   "nbconvert_exporter": "python",
   "pygments_lexer": "ipython3",
   "version": "3.9.7"
  }
 },
 "nbformat": 4,
 "nbformat_minor": 5
}
