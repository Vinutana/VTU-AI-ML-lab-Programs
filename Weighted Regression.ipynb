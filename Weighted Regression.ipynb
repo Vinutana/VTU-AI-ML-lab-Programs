{
 "cells": [
  {
   "cell_type": "code",
   "execution_count": 1,
   "metadata": {
    "id": "9g9vNp3IpjpW"
   },
   "outputs": [],
   "source": [
    "import matplotlib.pyplot as plt \n",
    "import pandas as pd\n",
    "import numpy as np"
   ]
  },
  {
   "cell_type": "code",
   "execution_count": 2,
   "metadata": {
    "id": "MLx_yo6-qfDP"
   },
   "outputs": [],
   "source": [
    "def kernel(point,x):\n",
    "  k = 1\n",
    "  weights = np.mat(np.eye((m))) \n",
    "  for j in range(m):\n",
    "    diff = point - X[j]\n",
    "    weights[j,j] = np.exp(diff*diff.T/( -2.0*k** 2)) \n",
    "  return weights\n",
    "\n",
    "def localWeight(point, x,Y) :\n",
    "  wei = kernel(point,x )\n",
    "  W = (X.T*(wei*X)).I*(X.T*(wei*Y.T)) \n",
    "  return W\n",
    "\n",
    "def localWeightRegression(x,Y) : \n",
    "  ypred = np.zeros(m)\n",
    "  for i in range(m):\n",
    "    ypred[i] = x[i] *localWeight(x[i],x,Y) \n",
    "  return ypred"
   ]
  },
  {
   "cell_type": "code",
   "execution_count": 3,
   "metadata": {
    "colab": {
     "base_uri": "https://localhost:8080/",
     "height": 279
    },
    "id": "1zGWclMbrS3x",
    "outputId": "ab06dc85-ee34-417b-92a9-32a7d61ba5ed"
   },
   "outputs": [
    {
     "data": {
      "image/png": "[encoded data removed]",
      "text/plain": [
       "<Figure size 432x288 with 1 Axes>"
      ]
     },
     "metadata": {
      "needs_background": "light"
     },
     "output_type": "display_data"
    }
   ],
   "source": [
    "data = pd.read_csv('tips.csv') \n",
    "\n",
    "bill = np.array(data.total_bill) \n",
    "tip = np.array(data.tip)\n",
    "\n",
    "m = len(bill)\n",
    "\n",
    "X = np.mat([np.ones(m),bill]).T\n",
    "y = np.mat(tip)\n",
    "\n",
    "ypred = localWeightRegression(X,y) \n",
    "\n",
    "plt.scatter(bill,tip,color='green') \n",
    "plt.plot(np.sort(bill) ,ypred[[b for b in np.argsort(bill)]],color='red')\n",
    "plt.xlabel('Total bill')\n",
    "plt.ylabel('Tip')\n",
    "plt.show()"
   ]
  },
  {
   "cell_type": "code",
   "execution_count": null,
   "metadata": {
    "id": "sZIN4AKGsg-8"
   },
   "outputs": [],
   "source": []
  }
 ],
 "metadata": {
  "colab": {
   "name": "P10.ipynb",
   "provenance": []
  },
  "kernelspec": {
   "display_name": "Python 3 (ipykernel)",
   "language": "python",
   "name": "python3"
  },
  "language_info": {
   "codemirror_mode": {
    "name": "ipython",
    "version": 3
   },
   "file_extension": ".py",
   "mimetype": "text/x-python",
   "name": "python",
   "nbconvert_exporter": "python",
   "pygments_lexer": "ipython3",
   "version": "3.9.7"
  }
 },
 "nbformat": 4,
 "nbformat_minor": 1
}
