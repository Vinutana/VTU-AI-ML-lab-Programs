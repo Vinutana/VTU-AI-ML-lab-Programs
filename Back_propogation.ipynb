{
 "cells": [
  {
   "cell_type": "code",
   "execution_count": 1,
   "metadata": {},
   "outputs": [],
   "source": [
    "import numpy as np"
   ]
  },
  {
   "cell_type": "code",
   "execution_count": 2,
   "metadata": {},
   "outputs": [],
   "source": [
    "x=np.array(([2,9],[1,5],[3,6]),dtype=float)\n",
    "y=np.array(([92],[86],[89]),dtype=float)\n",
    "x=x/np.amax(x,axis=0)\n",
    "y=y/100"
   ]
  },
  {
   "cell_type": "code",
   "execution_count": 3,
   "metadata": {},
   "outputs": [],
   "source": [
    "def sigmoid(x):\n",
    "    return 1/(1+ np.exp(-x))\n",
    "def sigmoid_grad(x):\n",
    "    return x* (1-x)"
   ]
  },
  {
   "cell_type": "code",
   "execution_count": 4,
   "metadata": {},
   "outputs": [],
   "source": [
    "#variable initialization \n",
    "epoch=1000\n",
    "eta=0.2\n",
    "input_neurons = 2\n",
    "hidden_neurons=3\n",
    "output_neurons=1"
   ]
  },
  {
   "cell_type": "code",
   "execution_count": 5,
   "metadata": {},
   "outputs": [],
   "source": [
    "#weigh and bias\n",
    "wh=np.random.uniform(size=(input_neurons,hidden_neurons))\n",
    "bh=np.random.uniform(size=(1,hidden_neurons))\n",
    "wout=np.random.uniform(size=(hidden_neurons,output_neurons))\n",
    "bout=np.random.uniform(size=(1,output_neurons))"
   ]
  },
  {
   "cell_type": "code",
   "execution_count": 6,
   "metadata": {},
   "outputs": [],
   "source": [
    "for i in range(epoch):\n",
    "#forward propogation\n",
    "    h_ip=np.dot(x,wh)+bh\n",
    "    h_act=sigmoid(h_ip)\n",
    "    o_ip=np.dot(h_act,wout)\n",
    "    output=sigmoid(o_ip)\n",
    "    Eo=y-output\n",
    "    outgrad=sigmoid_grad(output)\n",
    "    d_output=Eo*outgrad\n",
    "    Eh=d_output.dot(wout.T)\n",
    "    hiddengrad=sigmoid_grad(h_act)\n",
    "    d_hidden=Eh*hiddengrad\n",
    "    wout +=h_act.T.dot(d_output)*eta\n",
    "    wh +=x.T.dot(d_hidden)*eta"
   ]
  },
  {
   "cell_type": "code",
   "execution_count": 7,
   "metadata": {},
   "outputs": [
    {
     "name": "stdout",
     "output_type": "stream",
     "text": [
      "normalized input:\n",
      "[[0.66666667 1.        ]\n",
      " [0.33333333 0.55555556]\n",
      " [1.         0.66666667]]\n",
      "actual output:\n",
      "[[0.92]\n",
      " [0.86]\n",
      " [0.89]]\n",
      "predicted output:\n",
      " [[0.89741123]\n",
      " [0.87328787]\n",
      " [0.89849795]]\n"
     ]
    }
   ],
   "source": [
    "print(\"normalized input:\\n\"+ str(x))\n",
    "print(\"actual output:\\n\"+ str(y))\n",
    "print(\"predicted output:\\n\",output)"
   ]
  },
  {
   "cell_type": "code",
   "execution_count": null,
   "metadata": {},
   "outputs": [],
   "source": []
  }
 ],
 "metadata": {
  "kernelspec": {
   "display_name": "Python 3 (ipykernel)",
   "language": "python",
   "name": "python3"
  },
  "language_info": {
   "codemirror_mode": {
    "name": "ipython",
    "version": 3
   },
   "file_extension": ".py",
   "mimetype": "text/x-python",
   "name": "python",
   "nbconvert_exporter": "python",
   "pygments_lexer": "ipython3",
   "version": "3.9.7"
  }
 },
 "nbformat": 4,
 "nbformat_minor": 2
}
