{
 "cells": [
  {
   "cell_type": "code",
   "execution_count": 1,
   "id": "1e0e22ca",
   "metadata": {},
   "outputs": [],
   "source": [
    "import math\n",
    "import csv\n",
    "def load_csv(filename):\n",
    "    lines=csv.reader(open(filename,\"r\"))\n",
    "    dataset=list(lines)\n",
    "    headers=dataset.pop(0)\n",
    "    return dataset,headers"
   ]
  },
  {
   "cell_type": "code",
   "execution_count": 2,
   "id": "bf8d781d",
   "metadata": {},
   "outputs": [],
   "source": [
    "class Node:\n",
    "    def __init__ (self,attribute):\n",
    "        self.attribute=attribute\n",
    "        self.children=[]\n",
    "        self.answer=\"\""
   ]
  },
  {
   "cell_type": "code",
   "execution_count": 3,
   "id": "3df51a8a",
   "metadata": {},
   "outputs": [],
   "source": [
    "def subtables(data,col,delete):\n",
    "    dic={}\n",
    "    coldata=[row[col] for row in data]\n",
    "    attr=list(set(coldata))\n",
    "    for k in attr:\n",
    "        dic[k]=[]\n",
    "    for y in range (len(data)):\n",
    "        key=data[y][col]\n",
    "        if delete:\n",
    "            del data[y][col]\n",
    "        dic[key].append(data[y])\n",
    "    return attr,dic"
   ]
  },
  {
   "cell_type": "code",
   "execution_count": 4,
   "id": "e420758e",
   "metadata": {},
   "outputs": [],
   "source": [
    "def entropy(S):\n",
    "    attr=list(set(S))\n",
    "    if len(attr)==1:\n",
    "        return 0\n",
    "    counts=[0,0]\n",
    "    for i in range(2):\n",
    "        counts[i]=sum([1 for x in S if attr[i]==x])/(len(S)*1.0)\n",
    "    sums=0\n",
    "    for cnt in counts:\n",
    "        sums +=-1 *cnt *math.log(cnt,2)\n",
    "    return sums"
   ]
  },
  {
   "cell_type": "code",
   "execution_count": 5,
   "id": "c8493502",
   "metadata": {},
   "outputs": [],
   "source": [
    "def compute_gain(data,col):\n",
    "    attValues,dic=subtables(data,col,delete=False)\n",
    "    total_entropy=entropy([row[-1] for row in data])\n",
    "    for x in range (len(attValues)):\n",
    "        ratio=len(dic[attValues[x]])/(len(data)*1.0)\n",
    "        entro=entropy([row[-1] for row in dic [attValues[x]]])\n",
    "        total_entropy-=ratio*entro\n",
    "    return total_entropy"
   ]
  },
  {
   "cell_type": "code",
   "execution_count": 6,
   "id": "ecfe1e5c",
   "metadata": {},
   "outputs": [],
   "source": [
    "def build_tree(data,features):\n",
    "    lastcol=[row[-1] for row in data]\n",
    "    if(len(set(lastcol)))==1:\n",
    "        node=Node(\" \")\n",
    "        node.answer=lastcol[0]\n",
    "        return node\n",
    "    n=len(data[0])-1\n",
    "    gains=[compute_gain(data,col) for col in range(n)]\n",
    "    split=gains.index(max(gains))\n",
    "    node=Node(features[split])\n",
    "    fea=features[:split]+features[split+1:]\n",
    "    attr, dic=subtables(data,split,delete= True)\n",
    "    for x in range(len(attr)):\n",
    "        child=build_tree(dic[attr[x]],fea)\n",
    "        node.children.append((attr[x],child))\n",
    "    return node"
   ]
  },
  {
   "cell_type": "code",
   "execution_count": 7,
   "id": "5f3988aa",
   "metadata": {},
   "outputs": [],
   "source": [
    "def print_tree(node,level):\n",
    "    if node.answer!=\"\":\n",
    "        print(\"\"*level,node.answer)\n",
    "        return\n",
    "    print(\"\"*level,node.attribute)\n",
    "    for value, n in node.children:\n",
    "        print(\" \"*(level+1),value)\n",
    "        print_tree(n,level+2)\n",
    "        "
   ]
  },
  {
   "cell_type": "code",
   "execution_count": 8,
   "id": "c1f0d61b",
   "metadata": {},
   "outputs": [],
   "source": [
    "def classify(node,x_test,features):\n",
    "    if node.answer!=\"\":\n",
    "        print(node.answer)\n",
    "        return\n",
    "    pos=features.index(node.attribute)\n",
    "    for value,n in node.children:\n",
    "        if x_test[pos]==value:\n",
    "            classify(n,x_test,features)\n",
    "            "
   ]
  },
  {
   "cell_type": "code",
   "execution_count": 9,
   "id": "50f7aea5",
   "metadata": {},
   "outputs": [
    {
     "name": "stdout",
     "output_type": "stream",
     "text": [
      "The decision tree for the dataset using ID3 algorithm is\n",
      " Outlook\n",
      "  Rain\n",
      " Wind\n",
      "    Weak\n",
      " Yes\n",
      "    Strong\n",
      " No\n",
      "  Overcast\n",
      " Yes\n",
      "  Sunny\n",
      " Humidity\n",
      "    Normal\n",
      " Yes\n",
      "    High\n",
      " No\n",
      "The test instance : ['Sunny', 'Hot', 'High', 'Weak', 'No']\n",
      "The predicted label:No\n",
      "The test instance : ['Sunny', 'Hot', 'High', 'Strong', 'No']\n",
      "The predicted label:No\n",
      "The test instance : ['Overcast', 'Hot', 'High', 'Weak', 'Yes']\n",
      "The predicted label:Yes\n",
      "The test instance : ['Rain', 'Mild', 'High', 'Weak', 'Yes']\n",
      "The predicted label:Yes\n",
      "The test instance : ['Rain', 'Cool', 'Normal', 'Weak', 'Yes']\n",
      "The predicted label:Yes\n",
      "The test instance : ['Rain', 'Cool', 'Normal', 'Strong', 'No']\n",
      "The predicted label:No\n",
      "The test instance : ['Overcast', 'Cool', 'Normal', 'Strong', 'Yes']\n",
      "The predicted label:Yes\n",
      "The test instance : ['Sunny', 'Mild', 'High', 'Weak', 'No']\n",
      "The predicted label:No\n",
      "The test instance : ['Sunny', 'Cool', 'Normal', 'Weak', 'Yes']\n",
      "The predicted label:Yes\n",
      "The test instance : ['Rain', 'Mild', 'Normal', 'Weak', 'Yes']\n",
      "The predicted label:Yes\n",
      "The test instance : ['Sunny', 'Mild', 'Normal', 'Strong', 'Yes']\n",
      "The predicted label:Yes\n",
      "The test instance : ['Overcast', 'Mild', 'High', 'Strong', 'Yes']\n",
      "The predicted label:Yes\n",
      "The test instance : ['Overcast', 'Hot', 'Normal', 'Weak', 'Yes']\n",
      "The predicted label:Yes\n",
      "The test instance : ['Rain', 'Hot', 'High', 'Strong', 'No']\n",
      "The predicted label:No\n"
     ]
    }
   ],
   "source": [
    "#main program\n",
    "dataset,features=load_csv(\"ID3.csv\")\n",
    "node = build_tree(dataset,features)\n",
    "print(\"The decision tree for the dataset using ID3 algorithm is\")\n",
    "print_tree(node,0)\n",
    "testdata,features=load_csv(\"ID3.csv\")\n",
    "for xtest in testdata:\n",
    "    print(\"The test instance :\",xtest)\n",
    "    print(\"The predicted label:\",end=\"\")\n",
    "    classify(node,xtest,features)"
   ]
  },
  {
   "cell_type": "code",
   "execution_count": null,
   "id": "b24ba398",
   "metadata": {},
   "outputs": [],
   "source": []
  }
 ],
 "metadata": {
  "kernelspec": {
   "display_name": "Python 3 (ipykernel)",
   "language": "python",
   "name": "python3"
  },
  "language_info": {
   "codemirror_mode": {
    "name": "ipython",
    "version": 3
   },
   "file_extension": ".py",
   "mimetype": "text/x-python",
   "name": "python",
   "nbconvert_exporter": "python",
   "pygments_lexer": "ipython3",
   "version": "3.9.7"
  }
 },
 "nbformat": 4,
 "nbformat_minor": 5
}
