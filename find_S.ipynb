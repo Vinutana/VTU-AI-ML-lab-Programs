{
 "cells": [
  {
   "cell_type": "code",
   "execution_count": 2,
   "metadata": {},
   "outputs": [
    {
     "name": "stdout",
     "output_type": "stream",
     "text": [
      "\n",
      " the most general hypothesis : ['?','?','?','?','?','?']\n",
      "\n",
      " the most specific hypothesis : ['0','0','0','0','0','0']\n",
      "\n",
      " the given training data set\n",
      "\n",
      "['Sunny', 'Warm', 'Normal', 'Strong', 'Warm', 'Same', 'Yes']\n",
      "['Sunny', 'Warm', 'High', 'Strong', 'Warm', 'Same', 'Yes']\n",
      "['Rainy', 'Cold', 'High', 'Strong', 'Warm', 'Change', 'No']\n",
      "['Sunny', 'Warm', 'High', 'Strong', 'Cool', 'Change', 'Yes']\n",
      "\n",
      " the intial value of hypothesis\n",
      "\n",
      "['0', '0', '0', '0', '0', '0']\n",
      "\n",
      " Find S:finding a maximally specific hypothesis \n",
      "\n",
      "for trainig example No: {0} the hypothesis is 0 ['Sunny', 'Warm', 'Normal', 'Strong', 'Warm', 'Same']\n",
      "for trainig example No: {0} the hypothesis is 1 ['Sunny', 'Warm', '?', 'Strong', 'Warm', 'Same']\n",
      "for trainig example No: {0} the hypothesis is 2 ['Sunny', 'Warm', '?', 'Strong', 'Warm', 'Same']\n",
      "for trainig example No: {0} the hypothesis is 3 ['Sunny', 'Warm', '?', 'Strong', '?', '?']\n",
      "\n",
      " the maximally specific hypothesis for a given training example: \n",
      "\n",
      "['Sunny', 'Warm', '?', 'Strong', '?', '?']\n"
     ]
    }
   ],
   "source": [
    "import random\n",
    "import csv\n",
    "attributes = [['Sunny','Rainy'],\n",
    "             ['Warm','Cold'],\n",
    "             ['Normal','High'],\n",
    "             ['Strong','Weak'],\n",
    "             ['Warm','Cool'],\n",
    "             ['Same','Change']]\n",
    "num_attributes = len(attributes)\n",
    "print(\"\\n the most general hypothesis : ['?','?','?','?','?','?']\")\n",
    "print(\"\\n the most specific hypothesis : ['0','0','0','0','0','0']\")\n",
    "a = []\n",
    "print(\"\\n the given training data set\\n\")\n",
    "with open('ws.csv','r') as csvFile:\n",
    "    reader = csv.reader(csvFile)\n",
    "    for row in reader:\n",
    "        a.append(row)\n",
    "        print(row)\n",
    "print(\"\\n the intial value of hypothesis\\n\")\n",
    "hypothesis = ['0'] * num_attributes\n",
    "print(hypothesis)      \n",
    "for j in range(0, num_attributes):\n",
    "        hypothesis[j] = a[0][j];\n",
    "print(\"\\n Find S:finding a maximally specific hypothesis \\n\")\n",
    "for i in range(0,len(a)):\n",
    "    if a[i][num_attributes]=='Yes':\n",
    "            for j in range(0, num_attributes):\n",
    "                if a[i][j]!=hypothesis[j]:\n",
    "                    hypothesis[j]='?'\n",
    "                else:\n",
    "                    hypothesis[j]=a[i][j]\n",
    "    print(\"for trainig example No: {0} the hypothesis is\", format(i), hypothesis)\n",
    "print(\"\\n the maximally specific hypothesis for a given training example: \\n\")\n",
    "print(hypothesis)"
   ]
  }
 ],
 "metadata": {
  "kernelspec": {
   "display_name": "Python 3 (ipykernel)",
   "language": "python",
   "name": "python3"
  },
  "language_info": {
   "codemirror_mode": {
    "name": "ipython",
    "version": 3
   },
   "file_extension": ".py",
   "mimetype": "text/x-python",
   "name": "python",
   "nbconvert_exporter": "python",
   "pygments_lexer": "ipython3",
   "version": "3.9.7"
  }
 },
 "nbformat": 4,
 "nbformat_minor": 2
}
